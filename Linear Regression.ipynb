{
 "cells": [
  {
   "cell_type": "markdown",
   "metadata": {},
   "source": [
    "1. Linear Regression"
   ]
  },
  {
   "cell_type": "markdown",
   "metadata": {},
   "source": [
    "a) Load and preprocess the data using Pandas or Numpy and, if necessary, preprocessing functions from scikit-learn. The provided data is already normalized (see description), so there is no need for additional normalization. Compute and display basic statistics (mean, standard deviation, min, max, etc.) for each of the variables in the data set. Separate the target attribute for regression."
   ]
  },
  {
   "cell_type": "code",
   "execution_count": 22,
   "metadata": {
    "collapsed": false
   },
   "outputs": [],
   "source": [
    "#cd OneDrive/Ross/CSC478/hw3/"
   ]
  },
  {
   "cell_type": "code",
   "execution_count": 23,
   "metadata": {
    "collapsed": false
   },
   "outputs": [
    {
     "name": "stdout",
     "output_type": "stream",
     "text": [
      "                      count unique               top freq       mean  \\\n",
      "communityname          1994   1828  Jacksonvillecity    5        NaN   \n",
      "population             1994    NaN               NaN  NaN  0.0575928   \n",
      "householdsize          1994    NaN               NaN  NaN   0.463395   \n",
      "racepctblack           1994    NaN               NaN  NaN   0.179629   \n",
      "racePctWhite           1994    NaN               NaN  NaN   0.753716   \n",
      "racePctAsian           1994    NaN               NaN  NaN   0.153681   \n",
      "racePctHisp            1994    NaN               NaN  NaN   0.144022   \n",
      "agePct12t21            1994    NaN               NaN  NaN   0.424218   \n",
      "agePct12t29            1994    NaN               NaN  NaN   0.493867   \n",
      "agePct16t24            1994    NaN               NaN  NaN   0.336264   \n",
      "agePct65up             1994    NaN               NaN  NaN   0.423164   \n",
      "numbUrban              1994    NaN               NaN  NaN  0.0640722   \n",
      "pctUrban               1994    NaN               NaN  NaN   0.696269   \n",
      "medIncome              1994    NaN               NaN  NaN   0.361123   \n",
      "pctWWage               1994    NaN               NaN  NaN   0.558154   \n",
      "pctWFarmSelf           1994    NaN               NaN  NaN    0.29157   \n",
      "pctWInvInc             1994    NaN               NaN  NaN   0.495687   \n",
      "pctWSocSec             1994    NaN               NaN  NaN   0.471133   \n",
      "pctWPubAsst            1994    NaN               NaN  NaN   0.317778   \n",
      "pctWRetire             1994    NaN               NaN  NaN   0.479248   \n",
      "medFamInc              1994    NaN               NaN  NaN   0.375677   \n",
      "perCapInc              1994    NaN               NaN  NaN   0.350251   \n",
      "whitePerCap            1994    NaN               NaN  NaN   0.368049   \n",
      "blackPerCap            1994    NaN               NaN  NaN   0.291098   \n",
      "indianPerCap           1994    NaN               NaN  NaN   0.203506   \n",
      "AsianPerCap            1994    NaN               NaN  NaN   0.322357   \n",
      "OtherPerCap            1993    NaN               NaN  NaN   0.284742   \n",
      "HispPerCap             1994    NaN               NaN  NaN   0.386279   \n",
      "NumUnderPov            1994    NaN               NaN  NaN  0.0555065   \n",
      "PctPopUnderPov         1994    NaN               NaN  NaN   0.303024   \n",
      "...                     ...    ...               ...  ...        ...   \n",
      "MedNumBR               1994    NaN               NaN  NaN   0.314694   \n",
      "HousVacant             1994    NaN               NaN  NaN  0.0768154   \n",
      "PctHousOccup           1994    NaN               NaN  NaN   0.719549   \n",
      "PctHousOwnOcc          1994    NaN               NaN  NaN   0.548686   \n",
      "PctVacantBoarded       1994    NaN               NaN  NaN   0.204529   \n",
      "PctVacMore6Mos         1994    NaN               NaN  NaN   0.433335   \n",
      "MedYrHousBuilt         1994    NaN               NaN  NaN   0.494178   \n",
      "PctHousNoPhone         1994    NaN               NaN  NaN   0.264478   \n",
      "PctWOFullPlumb         1994    NaN               NaN  NaN   0.243059   \n",
      "OwnOccLowQuart         1994    NaN               NaN  NaN   0.264689   \n",
      "OwnOccMedVal           1994    NaN               NaN  NaN    0.26349   \n",
      "OwnOccHiQuart          1994    NaN               NaN  NaN   0.268942   \n",
      "RentLowQ               1994    NaN               NaN  NaN   0.346379   \n",
      "RentMedian             1994    NaN               NaN  NaN   0.372457   \n",
      "RentHighQ              1994    NaN               NaN  NaN   0.422964   \n",
      "MedRent                1994    NaN               NaN  NaN   0.384102   \n",
      "MedRentPctHousInc      1994    NaN               NaN  NaN   0.490125   \n",
      "MedOwnCostPctInc       1994    NaN               NaN  NaN   0.449754   \n",
      "MedOwnCostPctIncNoMtg  1994    NaN               NaN  NaN   0.403816   \n",
      "NumInShelters          1994    NaN               NaN  NaN  0.0294383   \n",
      "NumStreet              1994    NaN               NaN  NaN  0.0227783   \n",
      "PctForeignBorn         1994    NaN               NaN  NaN   0.215552   \n",
      "PctBornSameState       1994    NaN               NaN  NaN   0.608892   \n",
      "PctSameHouse85         1994    NaN               NaN  NaN    0.53505   \n",
      "PctSameCity85          1994    NaN               NaN  NaN   0.626424   \n",
      "PctSameState85         1994    NaN               NaN  NaN    0.65153   \n",
      "LandArea               1994    NaN               NaN  NaN  0.0652307   \n",
      "PopDens                1994    NaN               NaN  NaN   0.232854   \n",
      "PctUsePubTrans         1994    NaN               NaN  NaN   0.161685   \n",
      "ViolentCrimesPerPop    1994    NaN               NaN  NaN   0.237979   \n",
      "\n",
      "                            std  min     25%    50%     75%  max  \n",
      "communityname               NaN  NaN     NaN    NaN     NaN  NaN  \n",
      "population             0.126906    0    0.01   0.02    0.05    1  \n",
      "householdsize          0.163717    0    0.35   0.44    0.54    1  \n",
      "racepctblack           0.253442    0    0.02   0.06    0.23    1  \n",
      "racePctWhite           0.244039    0    0.63   0.85    0.94    1  \n",
      "racePctAsian           0.208877    0    0.04   0.07    0.17    1  \n",
      "racePctHisp            0.232492    0    0.01   0.04    0.16    1  \n",
      "agePct12t21            0.155196    0    0.34    0.4    0.47    1  \n",
      "agePct12t29            0.143564    0    0.41   0.48    0.54    1  \n",
      "agePct16t24            0.166505    0    0.25   0.29    0.36    1  \n",
      "agePct65up             0.179185    0     0.3   0.42    0.53    1  \n",
      "numbUrban              0.128256    0       0   0.03    0.07    1  \n",
      "pctUrban               0.444811    0       0      1       1    1  \n",
      "medIncome              0.209362    0     0.2   0.32    0.49    1  \n",
      "pctWWage               0.182913    0    0.44   0.56    0.69    1  \n",
      "pctWFarmSelf           0.204108    0    0.16   0.23    0.37    1  \n",
      "pctWInvInc             0.178071    0    0.37   0.48    0.62    1  \n",
      "pctWSocSec             0.173619    0    0.35  0.475    0.58    1  \n",
      "pctWPubAsst            0.222137    0  0.1425   0.26    0.44    1  \n",
      "pctWRetire             0.167564    0    0.36   0.47    0.58    1  \n",
      "medFamInc              0.198257    0    0.23   0.33    0.48    1  \n",
      "perCapInc              0.191109    0    0.22    0.3    0.43    1  \n",
      "whitePerCap            0.186804    0    0.24   0.32    0.44    1  \n",
      "blackPerCap            0.171593    0  0.1725   0.25    0.38    1  \n",
      "indianPerCap           0.164775    0    0.11   0.17    0.25    1  \n",
      "AsianPerCap            0.195411    0    0.19   0.28     0.4    1  \n",
      "OtherPerCap            0.191008    0     NaN    NaN     NaN    1  \n",
      "HispPerCap             0.183081    0    0.26  0.345    0.48    1  \n",
      "NumUnderPov            0.127941    0    0.01   0.02    0.05    1  \n",
      "PctPopUnderPov         0.228474    0    0.11   0.25    0.45    1  \n",
      "...                         ...  ...     ...    ...     ...  ...  \n",
      "MedNumBR               0.255182    0       0    0.5     0.5    1  \n",
      "HousVacant             0.150465    0    0.01   0.03    0.07    1  \n",
      "PctHousOccup           0.194024    0    0.63   0.77    0.86    1  \n",
      "PctHousOwnOcc          0.185204    0    0.43   0.54    0.67    1  \n",
      "PctVacantBoarded        0.21777    0    0.06   0.13    0.27    1  \n",
      "PctVacMore6Mos         0.188986    0    0.29   0.42    0.56    1  \n",
      "MedYrHousBuilt         0.232467    0    0.35   0.52    0.67    1  \n",
      "PctHousNoPhone         0.242847    0    0.06  0.185    0.42    1  \n",
      "PctWOFullPlumb         0.206295    0     0.1   0.19    0.33    1  \n",
      "OwnOccLowQuart         0.224425    0    0.09   0.18     0.4    1  \n",
      "OwnOccMedVal           0.231542    0    0.09   0.17    0.39    1  \n",
      "OwnOccHiQuart          0.235252    0    0.09   0.18    0.38    1  \n",
      "RentLowQ               0.219323    0    0.17   0.31    0.49    1  \n",
      "RentMedian             0.209278    0     0.2   0.33    0.52    1  \n",
      "RentHighQ              0.248286    0    0.22   0.37    0.59    1  \n",
      "MedRent                0.213404    0    0.21   0.34    0.53    1  \n",
      "MedRentPctHousInc        0.1695    0    0.37   0.48    0.59    1  \n",
      "MedOwnCostPctInc       0.187274    0    0.32   0.45    0.58    1  \n",
      "MedOwnCostPctIncNoMtg  0.192593    0    0.25   0.37    0.51    1  \n",
      "NumInShelters          0.102607    0       0      0    0.01    1  \n",
      "NumStreet                0.1004    0       0      0       0    1  \n",
      "PctForeignBorn         0.231134    0    0.06   0.13    0.28    1  \n",
      "PctBornSameState       0.204329    0    0.47   0.63  0.7775    1  \n",
      "PctSameHouse85         0.181352    0    0.42   0.54    0.66    1  \n",
      "PctSameCity85          0.200521    0    0.52   0.67    0.77    1  \n",
      "PctSameState85         0.198221    0    0.56    0.7    0.79    1  \n",
      "LandArea               0.109459    0    0.02   0.04    0.07    1  \n",
      "PopDens                0.203092    0     0.1   0.17    0.28    1  \n",
      "PctUsePubTrans         0.229055    0    0.02   0.07    0.19    1  \n",
      "ViolentCrimesPerPop    0.232985    0    0.07   0.15    0.33    1  \n",
      "\n",
      "[99 rows x 11 columns]\n"
     ]
    }
   ],
   "source": [
    "import numpy as np\n",
    "import pandas as pd\n",
    "import pylab as pl\n",
    "%matplotlib inline\n",
    "\n",
    "#cd OneDrive/Ross/CSC478/hw3/\n",
    "\n",
    "# load the data\n",
    "comm = pd.read_csv(\"communities.csv\", index_col=0,na_values='?')\n",
    "# describe the attributes\n",
    "print comm.describe(include='all').T\n",
    "# define the target attribute\n",
    "targets = comm['ViolentCrimesPerPop']\n",
    "# remove the target and non predictive data elements from the set\n",
    "comm = comm.drop('ViolentCrimesPerPop', 1) # 0 for rows and 1 for columns\n",
    "comm = comm.drop('communityname', 1) # 0 for rows and 1 for columns\n",
    "\n",
    "# find columns with missing values and replace with the mean for the column\n",
    "for header in list(comm.columns.values):\n",
    "    if comm[comm[header].isnull()].size > 0:\n",
    "        var_mean = comm[header].mean()\n",
    "        comm[header].fillna(var_mean, axis=0, inplace=True)"
   ]
  },
  {
   "cell_type": "markdown",
   "metadata": {},
   "source": [
    "b) Perform standard linear regression on data using the implementation for Ch. 8 of MLA. Compute the RMSE value on the full training data. Also, plot the correlation between the predicted and actual values of the target attribute. Display the obtained regression coefficients (weights). Finally, perform 10-fold cross-validation and compare the cross-validation RMSE to the training RMSE (for cross validation, you may use the KFold module from sklearn.cross_validation)"
   ]
  },
  {
   "cell_type": "code",
   "execution_count": 24,
   "metadata": {
    "collapsed": false
   },
   "outputs": [],
   "source": [
    "# convert the data and targets to Numpy arrays\n",
    "comm = comm.as_matrix()\n",
    "targets = targets.as_matrix()\n",
    "\n",
    "# add a column of ones to the data\n",
    "x = np.array([np.concatenate((v,[1])) for v in comm])\n",
    "y = targets"
   ]
  },
  {
   "cell_type": "code",
   "execution_count": 25,
   "metadata": {
    "collapsed": false
   },
   "outputs": [],
   "source": [
    "# define the function\n",
    "def standRegres(xArr,yArr):\n",
    "    xMat = np.mat(xArr); yMat = np.mat(yArr).T\n",
    "    xTx = xMat.T*xMat\n",
    "    if np.linalg.det(xTx) == 0.0:\n",
    "        print \"This matrix is singular, cannot do inverse\"\n",
    "        return\n",
    "    ws = xTx.I * (xMat.T*yMat)\n",
    "    return ws"
   ]
  },
  {
   "cell_type": "code",
   "execution_count": 26,
   "metadata": {
    "collapsed": false
   },
   "outputs": [
    {
     "name": "stdout",
     "output_type": "stream",
     "text": [
      "0.128889607798\n"
     ]
    }
   ],
   "source": [
    "# Compute RMSE on training data\n",
    "# find the weights\n",
    "ws = standRegres(x,y)\n",
    "# get the predictions\n",
    "p = x*ws\n",
    "# turn the resulting matrix into a NumPy array\n",
    "p = np.squeeze(np.asarray(p))\n",
    "# Now we can constuct a vector of errors\n",
    "err = abs(p-y)\n",
    "\n",
    "\n",
    "# Dot product of error vector with itself gives us the sum of squared errors\n",
    "total_error = np.dot(err,err)\n",
    "## Compute RMSE\n",
    "rmse_train = np.sqrt(total_error/len(p))\n",
    "print rmse_train"
   ]
  },
  {
   "cell_type": "markdown",
   "metadata": {},
   "source": [
    "plot the correlation between the predicted and actual values of the target attribute\n",
    "pl.plot(p, y,'ro')\n",
    "pl.plot([0,1],[0,1], 'g-')\n",
    "pl.xlabel('predicted')\n",
    "pl.ylabel('real')\n",
    "pl.show()"
   ]
  },
  {
   "cell_type": "code",
   "execution_count": 27,
   "metadata": {
    "collapsed": false
   },
   "outputs": [
    {
     "data": {
      "image/png": "[encoded data removed]",
      "text/plain": [
       "<matplotlib.figure.Figure at 0xe977828>"
      ]
     },
     "metadata": {},
     "output_type": "display_data"
    }
   ],
   "source": [
    "#plot the correlation between the predicted and actual values of the target attribute \n",
    "pl.plot(p, y,'ro') \n",
    "pl.plot([0,1],[0,1], 'g-') \n",
    "pl.xlabel('predicted') \n",
    "pl.ylabel('real') \n",
    "pl.show()"
   ]
  },
  {
   "cell_type": "code",
   "execution_count": 28,
   "metadata": {
    "collapsed": false,
    "scrolled": true
   },
   "outputs": [
    {
     "name": "stdout",
     "output_type": "stream",
     "text": [
      "Regression Coefficients: \n",
      "[[  1.31108068e-01]\n",
      " [ -3.14114977e-02]\n",
      " [  2.09909670e-01]\n",
      " [ -4.05351612e-02]\n",
      " [ -1.38892919e-02]\n",
      " [  5.89726825e-02]\n",
      " [  1.23399025e-01]\n",
      " [ -2.22621600e-01]\n",
      " [ -1.47500199e-01]\n",
      " [  5.01635477e-02]\n",
      " [ -2.42413829e-01]\n",
      " [  4.64024392e-02]\n",
      " [ -1.96945615e-01]\n",
      " [ -2.06117500e-01]\n",
      " [  4.65935490e-02]\n",
      " [ -1.77212915e-01]\n",
      " [  6.30148504e-02]\n",
      " [  1.14942190e-02]\n",
      " [ -9.08951848e-02]\n",
      " [  2.74640044e-01]\n",
      " [  1.01752476e-01]\n",
      " [ -3.31517562e-01]\n",
      " [ -2.91799268e-02]\n",
      " [ -3.54483393e-02]\n",
      " [  2.26173855e-02]\n",
      " [  4.30950137e-02]\n",
      " [  3.44408548e-02]\n",
      " [  1.28412458e-01]\n",
      " [ -1.91293360e-01]\n",
      " [ -1.00769002e-01]\n",
      " [  6.46856092e-02]\n",
      " [  1.06062117e-01]\n",
      " [  2.44126005e-06]\n",
      " [  2.34984611e-01]\n",
      " [ -3.75705330e-02]\n",
      " [ -7.74957660e-03]\n",
      " [  4.66779619e-01]\n",
      " [  2.26295907e-01]\n",
      " [  1.74621953e-01]\n",
      " [ -5.75206227e-01]\n",
      " [ -1.41954207e-01]\n",
      " [  5.68782538e-02]\n",
      " [ -3.51066745e-01]\n",
      " [ -3.49493414e-02]\n",
      " [  4.63705978e-04]\n",
      " [  5.57016681e-02]\n",
      " [ -1.82238360e-01]\n",
      " [ -1.54646442e-01]\n",
      " [  1.26172899e-01]\n",
      " [ -1.44320569e-01]\n",
      " [  2.39071713e-02]\n",
      " [  3.33390229e-02]\n",
      " [ -7.42297409e-02]\n",
      " [  3.59876412e-02]\n",
      " [ -3.31691535e-02]\n",
      " [ -2.18174916e-01]\n",
      " [  4.45777391e-01]\n",
      " [ -2.00030978e-01]\n",
      " [ -2.67307658e-02]\n",
      " [ -1.41457254e-01]\n",
      " [  6.38133109e-02]\n",
      " [ -2.10115806e-01]\n",
      " [  6.51276465e-01]\n",
      " [ -8.02774919e-02]\n",
      " [ -2.53817057e-01]\n",
      " [ -6.66334925e-01]\n",
      " [  2.01002575e-01]\n",
      " [  1.03326247e-01]\n",
      " [  2.88599766e-02]\n",
      " [  1.68314795e-01]\n",
      " [ -4.00752791e-02]\n",
      " [  5.53867355e-01]\n",
      " [  4.70396419e-02]\n",
      " [ -7.64314747e-02]\n",
      " [ -2.89277350e-02]\n",
      " [  1.40739015e-02]\n",
      " [ -1.40629951e-02]\n",
      " [ -3.46854609e-01]\n",
      " [  2.67796471e-01]\n",
      " [  1.19446906e-02]\n",
      " [ -2.36996317e-01]\n",
      " [ -2.60764386e-02]\n",
      " [ -6.84041742e-02]\n",
      " [  3.74730887e-01]\n",
      " [  4.17402525e-02]\n",
      " [ -4.45747318e-02]\n",
      " [ -8.34683479e-02]\n",
      " [  1.30736305e-01]\n",
      " [  1.83468559e-01]\n",
      " [  1.26046949e-01]\n",
      " [  4.63490658e-03]\n",
      " [ -2.24577196e-02]\n",
      " [  2.88627319e-02]\n",
      " [  1.30622513e-02]\n",
      " [  2.76170980e-02]\n",
      " [ -1.24479622e-02]\n",
      " [ -3.73099899e-02]\n",
      " [  5.88079813e-01]]\n"
     ]
    }
   ],
   "source": [
    "# display the obtained regression coefficients (weights)\n",
    "print 'Regression Coefficients: \\n', ws"
   ]
  },
  {
   "cell_type": "code",
   "execution_count": 29,
   "metadata": {
    "collapsed": false
   },
   "outputs": [
    {
     "name": "stdout",
     "output_type": "stream",
     "text": [
      "RMSE 10-fold cross validation:  0.136333079233\n",
      "Training RMSE:  0.128889607798\n"
     ]
    }
   ],
   "source": [
    "# perform 10-fold cross-validation and compare the cross-validation RMSE to the training RMSE \n",
    "# (for cross validation, you may use the KFold module from sklearn.cross_validation)\n",
    "from sklearn.cross_validation import KFold\n",
    "\n",
    "kf = KFold(len(x), n_folds=10)\n",
    "xval_err = 0\n",
    "for train,test in kf:\n",
    "    ws = standRegres(x[train],y[train])\n",
    "    p = x[test]*ws\n",
    "    p = np.squeeze(np.asarray(p))\n",
    "    e = p-y[test]\n",
    "    xval_err += np.dot(e,e)\n",
    "    \n",
    "rmse_10cv = np.sqrt(xval_err/len(x))\n",
    "\n",
    "print 'RMSE 10-fold cross validation: ', rmse_10cv\n",
    "print 'Training RMSE: ', rmse_train"
   ]
  },
  {
   "cell_type": "markdown",
   "metadata": {},
   "source": [
    "c) Feature Selection:  use the scikit-learn regression model from sklearn.linear_model with a subset of features to perform linear regression. For feature selection, write a script or function that takes as input the training data, target attribute; the model; and any other parameters you find necessary, and returns the optimal percentage of the most informative features to use. Your approach should use k-fold cross-validation on the training data (you can use k=5). You can use feature_selection.SelectPercentile to find the most informative variables. Show the list of most informative variables and their weights [Note: since this is regression not classification, you should use feature_selection.f_regression as scoring function rather than chi2). Next, plot the model's mean absolute error values  on cross-validation relative to the percentage of selected features (See scikit-learn's metrics.mean_absolute_error). In order to use cross_validation.cross_val_score with regression you'll need to pass to it scoring='mean_absolute_error' as a parameter. [Hint: for an example of a similar feature selection process please review the class example notebook. Also, review scikit-learn documentation for feature selection.]"
   ]
  },
  {
   "cell_type": "code",
   "execution_count": 30,
   "metadata": {
    "collapsed": false
   },
   "outputs": [],
   "source": [
    "# write a script or function that takes as input the training data, target attribute; the model; \n",
    "# and any other parameters you find necessary, and returns the optimal percentage of the most informative features to use.\n",
    "\n",
    "# load the data\n",
    "comm = pd.read_csv(\"communities.csv\", index_col=0,na_values='?')\n",
    "# define the target attribute\n",
    "targets = comm['ViolentCrimesPerPop']\n",
    "# remove the target and non predictive data elements from the set\n",
    "comm = comm.drop('ViolentCrimesPerPop', 1) # 0 for rows and 1 for columns\n",
    "comm = comm.drop('communityname', 1) # 0 for rows and 1 for columns\n",
    "\n",
    "# find columns with missing values and replace with the mean for the column\n",
    "for header in list(comm.columns.values):\n",
    "    if comm[comm[header].isnull()].size > 0:\n",
    "        var_mean = comm[header].mean()\n",
    "        comm[header].fillna(var_mean, axis=0, inplace=True)\n",
    "\n",
    "        \n",
    "# convert the data and targets to Numpy arrays\n",
    "comm_matrix = comm.as_matrix()\n",
    "targets_matrix = targets.as_matrix()\n",
    "\n",
    "# add a column of ones to the data\n",
    "x = np.array([np.concatenate((v,[1])) for v in comm_matrix])\n",
    "y = targets_matrix      "
   ]
  },
  {
   "cell_type": "code",
   "execution_count": 31,
   "metadata": {
    "collapsed": false
   },
   "outputs": [],
   "source": [
    "from sklearn import cross_validation\n",
    "import math\n",
    "from sklearn.linear_model import LinearRegression, Lasso, Ridge, ElasticNet, SGDRegressor\n",
    "from sklearn import feature_selection\n",
    "\n",
    "def ftr_sel(x,y,model):\n",
    "    \n",
    "    model.fit(x,y)\n",
    "    percentiles = range(1, 100, 5)\n",
    "    results = []\n",
    "    for i in range(1, 100, 5):\n",
    "        fs = feature_selection.SelectPercentile(feature_selection.f_regression, percentile=i)\n",
    "        X_train_fs = fs.fit_transform(x, y)\n",
    "        scores = cross_validation.cross_val_score(model, X_train_fs, y, cv=5, scoring='mean_absolute_error')\n",
    "        results = np.append(results, scores.mean())\n",
    "\n",
    "    optimal_percentil = np.where(results == results.max())[0]\n",
    "    op_perc = percentiles[optimal_percentil]\n",
    "    #optimal_num_features = int(math.floor(percentiles[optimal_percentil]*len(x.columns)/100))\n",
    "    \n",
    "    return op_perc\n",
    "    "
   ]
  },
  {
   "cell_type": "code",
   "execution_count": 32,
   "metadata": {
    "collapsed": false
   },
   "outputs": [
    {
     "name": "stdout",
     "output_type": "stream",
     "text": [
      "Most informative variables and their weights:\n",
      "\n",
      "population: 310.369918779\n",
      "racepctblack: 1319.68643314\n",
      "racePctWhite: 1758.77227347\n",
      "numbUrban: 302.12358082\n",
      "medIncome: 437.1590743\n",
      "pctWInvInc: 990.700974651\n",
      "pctWPubAsst: 982.200467892\n",
      "medFamInc: 475.837601763\n",
      "perCapInc: 281.878264885\n",
      "NumUnderPov: 499.025448645\n",
      "PctPopUnderPov: 745.599159432\n",
      "PctLess9thGrade: 405.110531951\n",
      "PctNotHSGrad: 607.30932519\n",
      "PctUnemployed: 679.145660493\n",
      "MalePctDivorce: 759.581937457\n",
      "FemalePctDiv: 891.494024673\n",
      "TotalPctDiv: 876.510085951\n",
      "PctFam2Par: 1987.05731023\n",
      "PctKids2Par: 2388.61868809\n",
      "PctYoungKids2Par: 1588.37986036\n",
      "PctTeen2Par: 1550.53163637\n",
      "NumIlleg: 567.975360335\n",
      "PctIlleg: 2381.98320035\n",
      "PctLargHouseFam: 343.442480513\n",
      "PctPersOwnOccup: 759.916937383\n",
      "PctPersDenseHous: 514.036224481\n",
      "PctHousLess3BR: 578.789197875\n",
      "MedNumBR: 291.680471184\n",
      "HousVacant: 430.103642138\n",
      "PctHousOwnOcc: 566.905240411\n",
      "PctVacantBoarded: 605.507916549\n",
      "PctHousNoPhone: 623.483263567\n",
      "PctWOFullPlumb: 305.118590384\n",
      "NumInShelters: 327.491789621\n",
      "NumStreet: 260.854152995\n"
     ]
    },
    {
     "name": "stderr",
     "output_type": "stream",
     "text": [
      "C:\\Anaconda2\\lib\\site-packages\\ipykernel\\__main__.py:18: VisibleDeprecationWarning: converting an array with ndim > 0 to an index will result in an error in the future\n"
     ]
    }
   ],
   "source": [
    "# show the list of most informative variables and their weights\n",
    "# get the optimal percentile from our function\n",
    "op_perc = ftr_sel(comm,targets,LinearRegression()) # do I need to add a column of ones prior to passing the data?\n",
    "\n",
    "headers = list(comm.columns.values)\n",
    "fs = feature_selection.SelectPercentile(feature_selection.f_regression, percentile=op_perc)\n",
    "x_train_fs = fs.fit_transform(x, y)\n",
    "\n",
    "print 'Most informative variables and their weights:\\n'\n",
    "for i in range(0,len(headers)):\n",
    "    if fs.get_support()[i]==True:\n",
    "        print headers[i] + ': ' + str(fs.scores_[i])"
   ]
  },
  {
   "cell_type": "code",
   "execution_count": 33,
   "metadata": {
    "collapsed": false
   },
   "outputs": [
    {
     "data": {
      "image/png": "[encoded data removed]",
      "text/plain": [
       "<matplotlib.figure.Figure at 0xe6c9cc0>"
      ]
     },
     "metadata": {},
     "output_type": "display_data"
    }
   ],
   "source": [
    "from sklearn import cross_validation\n",
    "\n",
    "# plot the model's mean absolute error values on cross-validation relative to the percentage of selected features\n",
    "linreg = LinearRegression()\n",
    "x_values = [] # empty list to collect x values\n",
    "y_values = [] # empty list to collect y values\n",
    "\n",
    "\n",
    "for i in range(5, 101, 5):\n",
    "    x_values.append(i)\n",
    "    fs = feature_selection.SelectPercentile(feature_selection.f_regression, percentile=i)\n",
    "    X_train_fs = fs.fit_transform(comm, targets)\n",
    "    linreg.fit(X_train_fs,targets)\n",
    "    errors = cross_validation.cross_val_score(linreg, X_train_fs, targets, cv=5, scoring='mean_absolute_error')\n",
    "    y_values.append(errors.mean()*-1)\n",
    "\n",
    "pl.plot(x_values,y_values)\n",
    "pl.xlabel('percentile') \n",
    "pl.ylabel('MAE') \n",
    "pl.show()"
   ]
  },
  {
   "cell_type": "markdown",
   "metadata": {
    "collapsed": false
   },
   "source": [
    "d) Next, perform Ridge Regression and Lasso Regression, however this time use the modules from sklearn.linear_model. In each case, perform systematic model selection to identify the optimal alpha parameter. First, create a 20%-80% randomized split of the data. Set aside the test portion; the model selection process should be performed using the 80% training data partition. You should create a function that takes as input the data and target attribute; the parameter to vary and a list of its values; the model to be trained; and any other relevant input needed to determine the optimal value for the specified parameter. The model selection process should perform k-fold cross validation (k should be a parameter, but you can select k=5 for this problem). You should also plot the error values on the training and cross-validation splits across the specified values of the alpha parameter. Finally, using the best alpha value, run the model on the set-aside test data. Discuss your observation and conclusions. [Hint: for an example of a similar model selection process please review the class example notebook.]"
   ]
  },
  {
   "cell_type": "code",
   "execution_count": 34,
   "metadata": {
    "collapsed": true
   },
   "outputs": [],
   "source": [
    "from sklearn.cross_validation import KFold\n",
    "from sklearn.linear_model import LinearRegression, Lasso, Ridge, ElasticNet, SGDRegressor\n",
    "from sklearn.cross_validation import KFold\n",
    "import numpy as np\n",
    "import pylab as pl\n",
    "import matplotlib.pyplot as plt\n",
    "%matplotlib inline"
   ]
  },
  {
   "cell_type": "code",
   "execution_count": 35,
   "metadata": {
    "collapsed": false
   },
   "outputs": [],
   "source": [
    "# load the data\n",
    "comm = pd.read_csv(\"communities.csv\", index_col=0,na_values='?')\n",
    "# define the target attribute\n",
    "targets = comm['ViolentCrimesPerPop']\n",
    "# remove the target and non predictive data elements from the set\n",
    "comm = comm.drop('ViolentCrimesPerPop', 1) # 0 for rows and 1 for columns\n",
    "comm = comm.drop('communityname', 1) # 0 for rows and 1 for columns\n",
    "\n",
    "# find columns with missing values and replace with the mean for the column\n",
    "for header in list(comm.columns.values):\n",
    "    if comm[comm[header].isnull()].size > 0:\n",
    "        var_mean = comm[header].mean()\n",
    "        comm[header].fillna(var_mean, axis=0, inplace=True)\n",
    "\n",
    "        \n",
    "# convert the data and targets to Numpy arrays\n",
    "comm_matrix = comm.as_matrix()\n",
    "targets_matrix = targets.as_matrix()\n",
    "\n",
    "# add a column of ones to the data\n",
    "x = np.array([np.concatenate((v,[1])) for v in comm_matrix])\n",
    "y = targets_matrix  \n"
   ]
  },
  {
   "cell_type": "code",
   "execution_count": 36,
   "metadata": {
    "collapsed": false
   },
   "outputs": [],
   "source": [
    "# create a 20%-80% randomized split of the data\n",
    "from sklearn.cross_validation import train_test_split\n",
    "x_train, x_test, y_train, y_test = train_test_split(x, y, test_size=0.2, random_state=33)"
   ]
  },
  {
   "cell_type": "code",
   "execution_count": 37,
   "metadata": {
    "collapsed": true
   },
   "outputs": [],
   "source": [
    "# create a function that takes as input the data and target attribute; the parameter to vary and a list of its values; \n",
    "# the model to be trained; and any other relevant input needed to determine the optimal value for the specified parameter\n",
    "\n",
    "def calc_params(x, y, model, param_values, param_name, K):\n",
    "    \n",
    "    # Convert input to Numpy arrays\n",
    "    x = np.array(x)\n",
    "    y = np.array(y)\n",
    "\n",
    "    # initialize training and testing scores with zeros\n",
    "    train_errors = np.zeros(len(param_values))\n",
    "    test_errors = np.zeros(len(param_values))\n",
    "    \n",
    "    # iterate over the different parameter values\n",
    "    for i, param_value in enumerate(param_values):\n",
    "        # set classifier parameters\n",
    "        model.set_params(**{param_name:param_value})\n",
    "        \n",
    "        # initialize the K scores obtained for each fold\n",
    "        k_train_errors = np.zeros(K)\n",
    "        k_test_errors = np.zeros(K)\n",
    "        \n",
    "        # create KFold cross validation\n",
    "        cv = KFold(len(x), K, shuffle=True, random_state=0)\n",
    "        \n",
    "        # iterate over the K folds\n",
    "        for j, (train, test) in enumerate(cv):\n",
    "            # fit the classifier in the corresponding fold\n",
    "            # and obtain the corresponding accuracy scores on train and test sets\n",
    "            model.fit([x[k] for k in train], y[train])\n",
    "            \n",
    "            k_train_error = cross_validation.cross_val_score(model, x[train], y[train], cv=K, scoring='mean_absolute_error')\n",
    "            k_test_error = cross_validation.cross_val_score(model, x[test], y[test], cv=K, scoring='mean_absolute_error')\n",
    "            \n",
    "            k_train_errors[j] = k_train_error.mean()*-1\n",
    "            k_test_errors[j] = k_test_error.mean()*-1\n",
    "            \n",
    "            #k_train_scores[j] = model.score([x[k] for k in train], y[train])\n",
    "            #k_test_scores[j] = model.score([x[k] for k in test], y[test])\n",
    "            \n",
    "        # store the mean of the K fold scores\n",
    "        train_errors[i] = np.mean(k_train_errors)\n",
    "        test_errors[i] = np.mean(k_test_errors)\n",
    "       \n",
    "    # plot the training and testing scores in a log scale\n",
    "    plt.plot(param_values, train_errors, label='Train', alpha=0.4, lw=2, c='b')\n",
    "    plt.plot(param_values, test_errors, label='Test', alpha=0.4, lw=2, c='g')\n",
    "    plt.legend(loc=7)\n",
    "    plt.title(str(model).split('(')[0])\n",
    "    plt.xlabel(param_name + \" values\")\n",
    "    plt.ylabel(\"Mean cross validation error\")\n",
    "\n",
    "    # return the training and testing scores on each parameter value\n",
    "    min_error = np.where(test_errors == test_errors.min())[0][0]\n",
    "    op_lambda = lambdas[min_error]\n",
    "    return op_lambda"
   ]
  },
  {
   "cell_type": "code",
   "execution_count": 38,
   "metadata": {
    "collapsed": false
   },
   "outputs": [],
   "source": [
    "# using the best alpha value, run the model on the set-aside test data\n",
    "ridge = Ridge(fit_intercept=True)\n",
    "lasso = Lasso(fit_intercept=True)\n",
    "\n",
    "# initialize lambda values to be passed into the function\n",
    "lambdas = np.linspace(0.0001, 20, 100)\n",
    "lambdas = np.array([int(e) for e in lambdas])"
   ]
  },
  {
   "cell_type": "code",
   "execution_count": 39,
   "metadata": {
    "collapsed": false
   },
   "outputs": [
    {
     "name": "stderr",
     "output_type": "stream",
     "text": [
      "C:\\Anaconda2\\lib\\site-packages\\ipykernel\\__main__.py:30: UserWarning: With alpha=0, this algorithm does not converge well. You are advised to use the LinearRegression estimator\n"
     ]
    },
    {
     "name": "stdout",
     "output_type": "stream",
     "text": [
      "RMSE on Test data using Lasso Regression: 0.143450355088\n"
     ]
    },
    {
     "name": "stderr",
     "output_type": "stream",
     "text": [
      "C:\\Anaconda2\\lib\\site-packages\\ipykernel\\__main__.py:5: UserWarning: With alpha=0, this algorithm does not converge well. You are advised to use the LinearRegression estimator\n"
     ]
    },
    {
     "data": {
      "image/png": "[encoded data removed]",
      "text/plain": [
       "<matplotlib.figure.Figure at 0xe9a6b38>"
      ]
     },
     "metadata": {},
     "output_type": "display_data"
    }
   ],
   "source": [
    "# pass the values into the function\n",
    "lambda_lasso = calc_params(x_train, y_train, lasso, lambdas, 'alpha', 5)\n",
    "\n",
    "lasso_model = Lasso(fit_intercept=True, alpha=lambda_lasso)\n",
    "lasso_model.fit(x_train,y_train)\n",
    "p = lasso_model.predict(x_test)\n",
    "e = p-y_test\n",
    "total_error = np.dot(e,e)\n",
    "rmse_test = np.sqrt(total_error/len(p))\n",
    "\n",
    "print 'RMSE on Test data using Lasso Regression:', rmse_test"
   ]
  },
  {
   "cell_type": "code",
   "execution_count": 40,
   "metadata": {
    "collapsed": false
   },
   "outputs": [
    {
     "name": "stdout",
     "output_type": "stream",
     "text": [
      "RMSE on Test data using Ridge Regression: 0.145265629387\n"
     ]
    },
    {
     "data": {
      "image/png": "[encoded data removed]",
      "text/plain": [
       "<matplotlib.figure.Figure at 0xe6bc470>"
      ]
     },
     "metadata": {},
     "output_type": "display_data"
    }
   ],
   "source": [
    "# pass the values into the function\n",
    "lambda_ridge = calc_params(x_train, y_train, ridge, lambdas, 'alpha', 5)\n",
    "\n",
    "ridge_model = Ridge(fit_intercept=True, alpha=lambda_ridge)\n",
    "ridge_model.fit(x_train,y_train)\n",
    "p = ridge_model.predict(x_test)\n",
    "e = p-y_test\n",
    "total_error = np.dot(e,e)\n",
    "rmse_test = np.sqrt(total_error/len(p))\n",
    "\n",
    "print 'RMSE on Test data using Ridge Regression:', rmse_test"
   ]
  },
  {
   "cell_type": "markdown",
   "metadata": {},
   "source": [
    "<b /b>\n",
    "As expected for the Ridge Regression model, we find that there is a turning point in the error on the test sample set as we increase the lambda value passed as the ridge regression parameter right at lambda = 9.  Using this optimal lambda value, we find that the RMSE on the test data using Lasso regression is .145.\n",
    "\n",
    "Updating the lambda value for Lasso regression appears a bit more oddly due to the calculation of the cost for Lasso regression.  Here we see that smaller lambda values are more optimal and and RMSE on the test data comes to .2399 with an optimal lambda value "
   ]
  },
  {
   "cell_type": "markdown",
   "metadata": {},
   "source": [
    "e) Next, perform regression using Stochastic Gradient Descent for regression. For this part, you should use the SGDRegessor module from sklearn.linear_model. Again, start with creating randomized 80%-20% train-test split. SGDRegessor requires that features be standardized (with 0 mean and scaled by standard deviation). Prior to fiting the model, perform the scaling using StandardScaler from sklearn.preprocessing. For this problem, perform a grid search (using GridSearchCV from sklearn.grid_search) Your grid search should compare combinations of two penalty parameters ('l2', 'l1') and different values of alpha (alpha could vary from 0.0001 which is the default to relatively large values). Using the best parameters, apply the model to the set-aside test data. Finally, perform model selection (similar to part d, above) to find the best \"l1_ratio\" parameter using SGDRegressor with  the \"elasticnet\" penalty parameter. [Note: \"l1_ratio\" is The Elastic Net mixing parameter, with 0 <= l1_ratio <= 1;  l1_ratio=0 corresponds to L2 penalty, l1_ratio=1 to L1 penalty; defaults to 0.15.] Using the best mixing ratio, apply the Elastic Net model to the set-aside test data. Provide a summary of your findings from the above experiments."
   ]
  },
  {
   "cell_type": "code",
   "execution_count": 41,
   "metadata": {
    "collapsed": false
   },
   "outputs": [],
   "source": [
    "from sklearn.preprocessing import StandardScaler\n",
    "from sklearn.cross_validation import train_test_split\n",
    "\n",
    "# create a 20%-80% randomized split of the data\n",
    "x_train, x_test, y_train, y_test = train_test_split(x, y, test_size=0.2, random_state=33)\n",
    "\n",
    "# SGD is very senstitive to varying-sized feature values. So, first we need to do feature scaling.\n",
    "    # training\n",
    "scaler = StandardScaler()\n",
    "scaler.fit(x_train)\n",
    "x_train_s = scaler.transform(x_train)\n",
    "    # test\n",
    "scaler = StandardScaler()\n",
    "scaler.fit(x_test)\n",
    "x_test_s = scaler.transform(x_test)\n",
    "\n",
    "\n"
   ]
  },
  {
   "cell_type": "code",
   "execution_count": 42,
   "metadata": {
    "collapsed": false
   },
   "outputs": [
    {
     "name": "stdout",
     "output_type": "stream",
     "text": [
      "Fitting 5 folds for each of 40 candidates, totalling 200 fits\n"
     ]
    },
    {
     "name": "stderr",
     "output_type": "stream",
     "text": [
      "[Parallel(n_jobs=1)]: Done  49 tasks       | elapsed:    0.3s\n",
      "[Parallel(n_jobs=1)]: Done 199 tasks       | elapsed:    1.4s\n",
      "[Parallel(n_jobs=1)]: Done 200 out of 200 | elapsed:    1.4s finished\n"
     ]
    },
    {
     "data": {
      "text/plain": [
       "({'alpha': 0.0001, 'penalty': 'l2'}, 0.65333435377582538)"
      ]
     },
     "execution_count": 42,
     "metadata": {},
     "output_type": "execute_result"
    }
   ],
   "source": [
    "from sklearn.grid_search import GridSearchCV\n",
    "\n",
    "#sgdreg = SGDRegressor(penalty='l2', alpha=0.15, n_iter=200)\n",
    "\n",
    "sgdreg = SGDRegressor()\n",
    "    \n",
    "parameters = {\n",
    "    'penalty': ['l1','l2'],\n",
    "    'alpha': np.linspace(0.0001, 10, 20)\n",
    "}\n",
    "\n",
    "gs = GridSearchCV(sgdreg, parameters, verbose=1, cv=5)\n",
    "gs.fit(x_train_s, y_train)\n",
    "gs.best_params_, gs.best_score_"
   ]
  },
  {
   "cell_type": "code",
   "execution_count": 43,
   "metadata": {
    "collapsed": false
   },
   "outputs": [
    {
     "name": "stdout",
     "output_type": "stream",
     "text": [
      "RMSE on the test data with optimal parameters is:  0.150587071169\n"
     ]
    }
   ],
   "source": [
    "# apply the parameters to the set aside test data\n",
    "sgdreg = SGDRegressor(penalty='l2', alpha=1.0527210526315789, n_iter=200)\n",
    "\n",
    "# Compute RMSE on test data\n",
    "sgdreg.fit(x_train_s,y_train)\n",
    "p = sgdreg.predict(x_test_s)\n",
    "err = p-y_test\n",
    "total_error = np.dot(err,err)\n",
    "rmse_train = np.sqrt(total_error/len(p))\n",
    "\n",
    "print 'RMSE on the test data with optimal parameters is: ', rmse_train"
   ]
  },
  {
   "cell_type": "code",
   "execution_count": 44,
   "metadata": {
    "collapsed": false
   },
   "outputs": [
    {
     "data": {
      "image/png": "[encoded data removed]",
      "text/plain": [
       "<matplotlib.figure.Figure at 0xf0cb828>"
      ]
     },
     "metadata": {},
     "output_type": "display_data"
    }
   ],
   "source": [
    "# perform model selection (similar to part d, above) to find the best \"l1_ratio\" parameter using SGDRegressor with  \n",
    "# the \"elasticnet\" penalty parameter\n",
    "sgdreg = SGDRegressor(penalty='elasticnet')\n",
    "\n",
    "l1_ratio = np.linspace(0, 1, 10)\n",
    "\n",
    "op_l1_ratio = calc_params(x_train_s, y_train, sgdreg, l1_ratio, 'l1_ratio', 5)\n"
   ]
  },
  {
   "cell_type": "code",
   "execution_count": 45,
   "metadata": {
    "collapsed": false
   },
   "outputs": [
    {
     "name": "stdout",
     "output_type": "stream",
     "text": [
      "RMSE using SGD with optimal l1_ratio is:  0.146027969776\n"
     ]
    }
   ],
   "source": [
    "# using the best mixing ratio, apply the Elastic Net model to the set-aside test data\n",
    "sgdreg = SGDRegressor(penalty='elasticnet',l1_ratio=op_l1_ratio)\n",
    "\n",
    "# Compute RMSE on training data\n",
    "sgdreg.fit(x_train_s,y_train)\n",
    "p = sgdreg.predict(x_test_s)\n",
    "err = p-y_test\n",
    "total_error = np.dot(err,err)\n",
    "rmse_train = np.sqrt(total_error/len(p))\n",
    "print 'RMSE using SGD with optimal l1_ratio is: ', rmse_train"
   ]
  }
 ],
 "metadata": {
  "kernelspec": {
   "display_name": "Python [Root]",
   "language": "python",
   "name": "Python [Root]"
  },
  "language_info": {
   "codemirror_mode": {
    "name": "ipython",
    "version": 2
   },
   "file_extension": ".py",
   "mimetype": "text/x-python",
   "name": "python",
   "nbconvert_exporter": "python",
   "pygments_lexer": "ipython2",
   "version": "2.7.12"
  }
 },
 "nbformat": 4,
 "nbformat_minor": 0
}
